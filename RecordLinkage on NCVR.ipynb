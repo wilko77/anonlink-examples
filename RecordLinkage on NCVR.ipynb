{
 "cells": [
  {
   "cell_type": "markdown",
   "metadata": {},
   "source": [
    "# Record Linkage of the NCVR dataset \"in the clear\""
   ]
  },
  {
   "cell_type": "code",
   "execution_count": 1,
   "metadata": {},
   "outputs": [],
   "source": [
    "import pandas as pd\n",
    "import recordlinkage\n",
    "import time"
   ]
  },
  {
   "cell_type": "markdown",
   "metadata": {},
   "source": [
    "We use a subset of the North Carolina voter registration dataset. This is a collection of entries that changed over time. Thus, a bit more challenging for record linkage."
   ]
  },
  {
   "cell_type": "code",
   "execution_count": 2,
   "metadata": {},
   "outputs": [],
   "source": [
    "dfa = pd.read_csv('data/ncvoter-20140619-temporal-balanced-ratio-1to1-a.csv', encoding='latin-1')\n",
    "dfa.drop_duplicates(subset='voter_id', keep='last', inplace=True)\n",
    "dfa.reset_index(drop=True, inplace=True)\n",
    "dfb = pd.read_csv('data/ncvoter-20140619-temporal-balanced-ratio-1to1-b.csv', encoding='latin-1')\n",
    "dfb.drop_duplicates(subset='voter_id', keep='last', inplace=True)\n",
    "dfb.reset_index(drop=True, inplace=True)"
   ]
  },
  {
   "cell_type": "code",
   "execution_count": 3,
   "metadata": {},
   "outputs": [
    {
     "data": {
      "text/html": [
       "<div>\n",
       "<style scoped>\n",
       "    .dataframe tbody tr th:only-of-type {\n",
       "        vertical-align: middle;\n",
       "    }\n",
       "\n",
       "    .dataframe tbody tr th {\n",
       "        vertical-align: top;\n",
       "    }\n",
       "\n",
       "    .dataframe thead th {\n",
       "        text-align: right;\n",
       "    }\n",
       "</style>\n",
       "<table border=\"1\" class=\"dataframe\">\n",
       "  <thead>\n",
       "    <tr style=\"text-align: right;\">\n",
       "      <th></th>\n",
       "      <th>voter_id</th>\n",
       "      <th>first_name</th>\n",
       "      <th>middle_name</th>\n",
       "      <th>last_name</th>\n",
       "      <th>age</th>\n",
       "      <th>gender</th>\n",
       "      <th>street_address</th>\n",
       "      <th>city</th>\n",
       "      <th>state</th>\n",
       "      <th>zip_code</th>\n",
       "      <th>full_phone_num</th>\n",
       "    </tr>\n",
       "  </thead>\n",
       "  <tbody>\n",
       "    <tr>\n",
       "      <th>0</th>\n",
       "      <td>5168123</td>\n",
       "      <td>joseph</td>\n",
       "      <td>gregory</td>\n",
       "      <td>colley</td>\n",
       "      <td>53</td>\n",
       "      <td>m</td>\n",
       "      <td>5859 us 421 n</td>\n",
       "      <td>lillington</td>\n",
       "      <td>nc</td>\n",
       "      <td>27546.0</td>\n",
       "      <td>NaN</td>\n",
       "    </tr>\n",
       "    <tr>\n",
       "      <th>1</th>\n",
       "      <td>5168120</td>\n",
       "      <td>charles</td>\n",
       "      <td>darin</td>\n",
       "      <td>smith</td>\n",
       "      <td>47</td>\n",
       "      <td>m</td>\n",
       "      <td>6045 charles ave</td>\n",
       "      <td>fayetteville</td>\n",
       "      <td>nc</td>\n",
       "      <td>28311.0</td>\n",
       "      <td>910 818 3015</td>\n",
       "    </tr>\n",
       "    <tr>\n",
       "      <th>2</th>\n",
       "      <td>415078</td>\n",
       "      <td>larry</td>\n",
       "      <td>keith</td>\n",
       "      <td>jenkins</td>\n",
       "      <td>62</td>\n",
       "      <td>m</td>\n",
       "      <td>219 mill knob mountain trl</td>\n",
       "      <td>otto</td>\n",
       "      <td>nc</td>\n",
       "      <td>28763.0</td>\n",
       "      <td>828 369 8789</td>\n",
       "    </tr>\n",
       "    <tr>\n",
       "      <th>3</th>\n",
       "      <td>5673331</td>\n",
       "      <td>michael</td>\n",
       "      <td>anthony</td>\n",
       "      <td>williams</td>\n",
       "      <td>40</td>\n",
       "      <td>m</td>\n",
       "      <td>320 maryland ave</td>\n",
       "      <td>wilmington</td>\n",
       "      <td>nc</td>\n",
       "      <td>28401.0</td>\n",
       "      <td>NaN</td>\n",
       "    </tr>\n",
       "    <tr>\n",
       "      <th>4</th>\n",
       "      <td>4295395</td>\n",
       "      <td>john</td>\n",
       "      <td>daniel</td>\n",
       "      <td>larned</td>\n",
       "      <td>84</td>\n",
       "      <td>m</td>\n",
       "      <td>404 runnymede dr</td>\n",
       "      <td>fayetteville</td>\n",
       "      <td>nc</td>\n",
       "      <td>28314.0</td>\n",
       "      <td>910 999 9999</td>\n",
       "    </tr>\n",
       "  </tbody>\n",
       "</table>\n",
       "</div>"
      ],
      "text/plain": [
       "   voter_id first_name middle_name last_name  age gender  \\\n",
       "0   5168123     joseph     gregory    colley   53      m   \n",
       "1   5168120    charles       darin     smith   47      m   \n",
       "2    415078      larry       keith   jenkins   62      m   \n",
       "3   5673331    michael     anthony  williams   40      m   \n",
       "4   4295395       john      daniel    larned   84      m   \n",
       "\n",
       "               street_address          city state  zip_code full_phone_num  \n",
       "0               5859 us 421 n    lillington    nc   27546.0            NaN  \n",
       "1            6045 charles ave  fayetteville    nc   28311.0   910 818 3015  \n",
       "2  219 mill knob mountain trl          otto    nc   28763.0   828 369 8789  \n",
       "3            320 maryland ave    wilmington    nc   28401.0            NaN  \n",
       "4            404 runnymede dr  fayetteville    nc   28314.0   910 999 9999  "
      ]
     },
     "execution_count": 3,
     "metadata": {},
     "output_type": "execute_result"
    }
   ],
   "source": [
    "dfb.head()"
   ]
  },
  {
   "cell_type": "markdown",
   "metadata": {},
   "source": [
    "We only use 100 000 records from each dataset in order to give my aging laptop a chance to succeed."
   ]
  },
  {
   "cell_type": "code",
   "execution_count": 4,
   "metadata": {},
   "outputs": [],
   "source": [
    "dfa = dfa[:100000]\n",
    "dfb = dfb[:100000]"
   ]
  },
  {
   "cell_type": "code",
   "execution_count": 5,
   "metadata": {},
   "outputs": [
    {
     "name": "stdout",
     "output_type": "stream",
     "text": [
      "we have 14231529 pairs to consider\n"
     ]
    }
   ],
   "source": [
    "indexer = recordlinkage.SortedNeighbourhoodIndex('last_name', window=9)\n",
    "pairs = indexer.index(dfa, dfb)\n",
    "print(f'we have {len(pairs)} pairs to consider')"
   ]
  },
  {
   "cell_type": "code",
   "execution_count": 6,
   "metadata": {},
   "outputs": [
    {
     "data": {
      "text/plain": [
       "<Compare>"
      ]
     },
     "execution_count": 6,
     "metadata": {},
     "output_type": "execute_result"
    }
   ],
   "source": [
    "compare_cl = recordlinkage.Compare()\n",
    "compare_cl.string('first_name', 'first_name', method='jarowinkler', threshold=0.9, label='first_name')\n",
    "compare_cl.string('middle_name', 'middle_name', method='jarowinkler', threshold=0.9, label='middle_name')\n",
    "compare_cl.string('last_name', 'last_name', method='jarowinkler', threshold=0.9, label='last_name')\n",
    "compare_cl.numeric('age', 'age', scale=1, label='age')\n",
    "compare_cl.exact('gender', 'gender', label='gender')\n",
    "compare_cl.string('street_address', 'street_address', method='jarowinkler', threshold=0.9, label='street_address')\n",
    "compare_cl.string('city', 'city', method='jarowinkler', threshold=0.9, label='city')\n",
    "compare_cl.exact('zip_code', 'zip_code', label='zip_code')"
   ]
  },
  {
   "cell_type": "code",
   "execution_count": 7,
   "metadata": {},
   "outputs": [
    {
     "name": "stdout",
     "output_type": "stream",
     "text": [
      "comparing the record pairs. Please stand by...\n",
      "comparing took 312.49057388305664 seconds.\n"
     ]
    }
   ],
   "source": [
    "print('comparing the record pairs. Please stand by...')\n",
    "start = time.time()\n",
    "res = compare_cl.compute(pairs, dfa, dfb)\n",
    "print(f'comparing took {time.time()-start} seconds.')"
   ]
  },
  {
   "cell_type": "code",
   "execution_count": 8,
   "metadata": {},
   "outputs": [
    {
     "name": "stdout",
     "output_type": "stream",
     "text": [
      "training an ECM classifier. Please stand by...\n",
      "training took 60.556395053863525 seconds.\n"
     ]
    }
   ],
   "source": [
    "print('training an ECM classifier. Please stand by...')\n",
    "start = time.time()\n",
    "cl = recordlinkage.ECMClassifier(binarize=0.9)\n",
    "cl.fit(res)\n",
    "print(f'training took {time.time()-start} seconds.')"
   ]
  },
  {
   "cell_type": "code",
   "execution_count": 9,
   "metadata": {},
   "outputs": [],
   "source": [
    "preds = cl.predict(res)"
   ]
  },
  {
   "cell_type": "code",
   "execution_count": 10,
   "metadata": {},
   "outputs": [
    {
     "data": {
      "text/plain": [
       "68602"
      ]
     },
     "execution_count": 10,
     "metadata": {},
     "output_type": "execute_result"
    }
   ],
   "source": [
    "len(preds)"
   ]
  },
  {
   "cell_type": "code",
   "execution_count": 11,
   "metadata": {},
   "outputs": [],
   "source": [
    "merge = pd.merge(dfa['voter_id'].reset_index(), dfb['voter_id'].reset_index(), how='inner', on='voter_id')\n",
    "true_links = pd.MultiIndex.from_frame(merge[['index_x', 'index_y']])"
   ]
  },
  {
   "cell_type": "code",
   "execution_count": 12,
   "metadata": {},
   "outputs": [
    {
     "name": "stdout",
     "output_type": "stream",
     "text": [
      "fscore 0.9424351238292673\n",
      "recall 0.9576004694341212\n",
      "precision 0.927742631410163\n"
     ]
    }
   ],
   "source": [
    "cm = recordlinkage.confusion_matrix(true_links, preds, total=len(dfa))\n",
    "fscore = recordlinkage.fscore(cm)\n",
    "print('fscore', fscore)\n",
    "recall = recordlinkage.recall(true_links, preds)\n",
    "print('recall', recall)\n",
    "precision = recordlinkage.precision(true_links, preds)\n",
    "print('precision', precision)"
   ]
  },
  {
   "cell_type": "code",
   "execution_count": null,
   "metadata": {},
   "outputs": [],
   "source": []
  }
 ],
 "metadata": {
  "kernelspec": {
   "display_name": "Python 3",
   "language": "python",
   "name": "python3"
  },
  "language_info": {
   "codemirror_mode": {
    "name": "ipython",
    "version": 3
   },
   "file_extension": ".py",
   "mimetype": "text/x-python",
   "name": "python",
   "nbconvert_exporter": "python",
   "pygments_lexer": "ipython3",
   "version": "3.7.6"
  }
 },
 "nbformat": 4,
 "nbformat_minor": 4
}
